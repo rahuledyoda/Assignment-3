{
 "cells": [
  {
   "cell_type": "code",
   "execution_count": 18,
   "id": "78eb7155",
   "metadata": {},
   "outputs": [],
   "source": [
    "# Game of \"Functions\"\n",
    "# Max Score: 30\n",
    "\n",
    "# BACK TO ASSIGNMENT\n",
    "#  Write a Python function to sum all the numbers in a list.\n",
    "\n",
    "\n",
    "\n",
    "# Sample List : (8, 2, 3, 0, 7)\n",
    "\n",
    "# Expected Output : 20\n",
    "\n",
    "\n",
    "\n",
    "# Explanation:\n",
    "\n",
    "\n",
    "\n",
    "# Summation should like 8+2+3+0+7 = 20\n",
    "\n",
    "#Ans)\n",
    "\n",
    "def Sum_of_list(list1):\n",
    "    count = 0\n",
    "    for add in list1:\n",
    "        count += add\n",
    "    return count"
   ]
  },
  {
   "cell_type": "code",
   "execution_count": 24,
   "id": "b688d483",
   "metadata": {},
   "outputs": [
    {
     "data": {
      "text/plain": [
       "20"
      ]
     },
     "execution_count": 24,
     "metadata": {},
     "output_type": "execute_result"
    }
   ],
   "source": [
    "Sum_of_list([8,2,3,0,7])"
   ]
  },
  {
   "cell_type": "code",
   "execution_count": 22,
   "id": "9da11c8f",
   "metadata": {},
   "outputs": [],
   "source": [
    "# String inside the function\n",
    "# Max Score: 30\n",
    "\n",
    "# BACK TO ASSIGNMENT\n",
    "# Write a Python program to reverse a string.\n",
    "\n",
    "\n",
    "\n",
    "# ﻿Sample String : \"1234abcd\"\n",
    "\n",
    "# Expected Output : \"dcba4321\"\n",
    "\n",
    "#ans)\n",
    "\n",
    "def Reversing(string1):\n",
    "    Reversed_string = string1[::-1]\n",
    "    return Reversed_string\n"
   ]
  },
  {
   "cell_type": "code",
   "execution_count": 25,
   "id": "348cf687",
   "metadata": {},
   "outputs": [
    {
     "data": {
      "text/plain": [
       "'dcba4321'"
      ]
     },
     "execution_count": 25,
     "metadata": {},
     "output_type": "execute_result"
    }
   ],
   "source": [
    "Reversing(\"1234abcd\")"
   ]
  },
  {
   "cell_type": "code",
   "execution_count": 66,
   "id": "f948f858",
   "metadata": {},
   "outputs": [],
   "source": [
    "# Calculate the Upper and The lower Case\n",
    "# Max Score: 40\n",
    "\n",
    "# BACK TO ASSIGNMENT\n",
    "# Write a Python function that accepts a string and calculate the number of upper case letters and lower case letters.\n",
    "\n",
    "\n",
    "\n",
    "# ﻿Sample String : 'The quick Brow Fox'\n",
    "\n",
    "# Expected Output :\n",
    "\n",
    "# No. of Upper case characters : 3\n",
    "\n",
    "# No. of Lower case Characters : 12\n",
    "\n",
    "#Ans)\n",
    "\n",
    "def Upper_Lower_Count(string1):\n",
    "    up = 0\n",
    "    low = 0\n",
    "    for i in string1:\n",
    "        if i.isupper():\n",
    "            up += 1\n",
    "        elif i.islower():\n",
    "            low +=1\n",
    "        else:\n",
    "            pass\n",
    "    a =print(\"Upper\", up)    \n",
    "    b = print(\"Lower\", low)"
   ]
  },
  {
   "cell_type": "code",
   "execution_count": 67,
   "id": "2d6ec18f",
   "metadata": {},
   "outputs": [
    {
     "name": "stdout",
     "output_type": "stream",
     "text": [
      "Upper 3\n",
      "Lower 13\n"
     ]
    }
   ],
   "source": [
    "Upper_Lower_Count(\"The quick Brown Fox\")"
   ]
  },
  {
   "cell_type": "code",
   "execution_count": null,
   "id": "7ab3354f",
   "metadata": {},
   "outputs": [],
   "source": []
  }
 ],
 "metadata": {
  "kernelspec": {
   "display_name": "Python 3",
   "language": "python",
   "name": "python3"
  },
  "language_info": {
   "codemirror_mode": {
    "name": "ipython",
    "version": 3
   },
   "file_extension": ".py",
   "mimetype": "text/x-python",
   "name": "python",
   "nbconvert_exporter": "python",
   "pygments_lexer": "ipython3",
   "version": "3.8.8"
  }
 },
 "nbformat": 4,
 "nbformat_minor": 5
}
